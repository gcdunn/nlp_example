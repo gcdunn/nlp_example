{
 "cells": [
  {
   "cell_type": "code",
   "execution_count": 1,
   "metadata": {},
   "outputs": [],
   "source": [
    "%matplotlib inline\n",
    "from sklearn.externals.joblib import load\n",
    "from IPython.display import HTML\n",
    "import matplotlib.pyplot as plt\n",
    "import sqlite3 as sql\n",
    "import pandas as pd\n",
    "import numpy as np\n",
    "import re\n",
    "\n",
    "seed = 101"
   ]
  },
  {
   "cell_type": "markdown",
   "metadata": {},
   "source": [
    "Load the dev set from the database."
   ]
  },
  {
   "cell_type": "code",
   "execution_count": 2,
   "metadata": {},
   "outputs": [
    {
     "data": {
      "text/html": [
       "<div>\n",
       "<style scoped>\n",
       "    .dataframe tbody tr th:only-of-type {\n",
       "        vertical-align: middle;\n",
       "    }\n",
       "\n",
       "    .dataframe tbody tr th {\n",
       "        vertical-align: top;\n",
       "    }\n",
       "\n",
       "    .dataframe thead th {\n",
       "        text-align: right;\n",
       "    }\n",
       "</style>\n",
       "<table border=\"1\" class=\"dataframe\">\n",
       "  <thead>\n",
       "    <tr style=\"text-align: right;\">\n",
       "      <th></th>\n",
       "      <th>rev_id</th>\n",
       "      <th>comment</th>\n",
       "      <th>year</th>\n",
       "      <th>logged_in</th>\n",
       "      <th>ns</th>\n",
       "      <th>sample</th>\n",
       "      <th>split</th>\n",
       "      <th>min</th>\n",
       "      <th>max</th>\n",
       "      <th>avg</th>\n",
       "      <th>y</th>\n",
       "    </tr>\n",
       "  </thead>\n",
       "  <tbody>\n",
       "    <tr>\n",
       "      <th>0</th>\n",
       "      <td>35367.0</td>\n",
       "      <td>\":In an interpreted language your source code ...</td>\n",
       "      <td>2002</td>\n",
       "      <td>1</td>\n",
       "      <td>article</td>\n",
       "      <td>random</td>\n",
       "      <td>dev</td>\n",
       "      <td>-1.0</td>\n",
       "      <td>1.0</td>\n",
       "      <td>0.2</td>\n",
       "      <td>0</td>\n",
       "    </tr>\n",
       "    <tr>\n",
       "      <th>1</th>\n",
       "      <td>37675.0</td>\n",
       "      <td>\"-\\nThis is not \"\"creative\"\".  Those are the d...</td>\n",
       "      <td>2002</td>\n",
       "      <td>0</td>\n",
       "      <td>article</td>\n",
       "      <td>random</td>\n",
       "      <td>dev</td>\n",
       "      <td>-1.0</td>\n",
       "      <td>2.0</td>\n",
       "      <td>0.3</td>\n",
       "      <td>0</td>\n",
       "    </tr>\n",
       "    <tr>\n",
       "      <th>2</th>\n",
       "      <td>52473.0</td>\n",
       "      <td>\"\\n\\nCan anyone provide any justification for ...</td>\n",
       "      <td>2002</td>\n",
       "      <td>1</td>\n",
       "      <td>article</td>\n",
       "      <td>random</td>\n",
       "      <td>dev</td>\n",
       "      <td>0.0</td>\n",
       "      <td>1.0</td>\n",
       "      <td>0.6</td>\n",
       "      <td>0</td>\n",
       "    </tr>\n",
       "    <tr>\n",
       "      <th>3</th>\n",
       "      <td>109914.0</td>\n",
       "      <td>Done. This entry is lond, I'll see about chopp...</td>\n",
       "      <td>2002</td>\n",
       "      <td>1</td>\n",
       "      <td>article</td>\n",
       "      <td>random</td>\n",
       "      <td>dev</td>\n",
       "      <td>-1.0</td>\n",
       "      <td>1.0</td>\n",
       "      <td>0.3</td>\n",
       "      <td>0</td>\n",
       "    </tr>\n",
       "    <tr>\n",
       "      <th>4</th>\n",
       "      <td>113226.0</td>\n",
       "      <td>Note to Eclecticology: Hum, you just brought t...</td>\n",
       "      <td>2002</td>\n",
       "      <td>1</td>\n",
       "      <td>article</td>\n",
       "      <td>random</td>\n",
       "      <td>dev</td>\n",
       "      <td>0.0</td>\n",
       "      <td>1.0</td>\n",
       "      <td>0.4</td>\n",
       "      <td>0</td>\n",
       "    </tr>\n",
       "  </tbody>\n",
       "</table>\n",
       "</div>"
      ],
      "text/plain": [
       "     rev_id                                            comment  year  \\\n",
       "0   35367.0  \":In an interpreted language your source code ...  2002   \n",
       "1   37675.0  \"-\\nThis is not \"\"creative\"\".  Those are the d...  2002   \n",
       "2   52473.0  \"\\n\\nCan anyone provide any justification for ...  2002   \n",
       "3  109914.0  Done. This entry is lond, I'll see about chopp...  2002   \n",
       "4  113226.0  Note to Eclecticology: Hum, you just brought t...  2002   \n",
       "\n",
       "   logged_in       ns  sample split  min  max  avg  y  \n",
       "0          1  article  random   dev -1.0  1.0  0.2  0  \n",
       "1          0  article  random   dev -1.0  2.0  0.3  0  \n",
       "2          1  article  random   dev  0.0  1.0  0.6  0  \n",
       "3          1  article  random   dev -1.0  1.0  0.3  0  \n",
       "4          1  article  random   dev  0.0  1.0  0.4  0  "
      ]
     },
     "execution_count": 2,
     "metadata": {},
     "output_type": "execute_result"
    }
   ],
   "source": [
    "with sql.connect('../data/toxic.db') as conn:\n",
    "    df = pd.read_sql_query('''select * from toxic where split=\"dev\"''', conn)\n",
    "df.head()"
   ]
  },
  {
   "cell_type": "markdown",
   "metadata": {},
   "source": [
    "Let's grab our best model from earlier."
   ]
  },
  {
   "cell_type": "code",
   "execution_count": 3,
   "metadata": {},
   "outputs": [],
   "source": [
    "def tokenizer(text):\n",
    "    return re.findall(r'[a-z0-9]+', text.lower())\n",
    "\n",
    "gs = load('../results/gs_cv_sgd.joblib')\n",
    "pipe = gs.best_estimator_"
   ]
  },
  {
   "cell_type": "markdown",
   "metadata": {},
   "source": [
    "Let's start by looking at the tokens that are most important for predicting each class."
   ]
  },
  {
   "cell_type": "code",
   "execution_count": 4,
   "metadata": {},
   "outputs": [
    {
     "data": {
      "text/html": [
       "<div>\n",
       "<style scoped>\n",
       "    .dataframe tbody tr th:only-of-type {\n",
       "        vertical-align: middle;\n",
       "    }\n",
       "\n",
       "    .dataframe tbody tr th {\n",
       "        vertical-align: top;\n",
       "    }\n",
       "\n",
       "    .dataframe thead th {\n",
       "        text-align: right;\n",
       "    }\n",
       "</style>\n",
       "<table border=\"1\" class=\"dataframe\">\n",
       "  <thead>\n",
       "    <tr style=\"text-align: right;\">\n",
       "      <th></th>\n",
       "      <th>token</th>\n",
       "      <th>weight</th>\n",
       "    </tr>\n",
       "  </thead>\n",
       "  <tbody>\n",
       "    <tr>\n",
       "      <th>0</th>\n",
       "      <td>0</td>\n",
       "      <td>-0.520761</td>\n",
       "    </tr>\n",
       "    <tr>\n",
       "      <th>1</th>\n",
       "      <td>0 0</td>\n",
       "      <td>0.014939</td>\n",
       "    </tr>\n",
       "    <tr>\n",
       "      <th>2</th>\n",
       "      <td>0 00</td>\n",
       "      <td>-0.000079</td>\n",
       "    </tr>\n",
       "    <tr>\n",
       "      <th>3</th>\n",
       "      <td>0 00000001</td>\n",
       "      <td>-0.000357</td>\n",
       "    </tr>\n",
       "    <tr>\n",
       "      <th>4</th>\n",
       "      <td>0 000001</td>\n",
       "      <td>0.071203</td>\n",
       "    </tr>\n",
       "  </tbody>\n",
       "</table>\n",
       "</div>"
      ],
      "text/plain": [
       "        token    weight\n",
       "0           0 -0.520761\n",
       "1         0 0  0.014939\n",
       "2        0 00 -0.000079\n",
       "3  0 00000001 -0.000357\n",
       "4    0 000001  0.071203"
      ]
     },
     "execution_count": 4,
     "metadata": {},
     "output_type": "execute_result"
    }
   ],
   "source": [
    "tokens = pipe.named_steps['vect'].get_feature_names() # Note, NOT the same as vocabulary_\n",
    "weights = pipe.named_steps['clf'].coef_[0]\n",
    "df_model = pd.DataFrame({'token':tokens, 'weight':weights})\n",
    "df_model.head()"
   ]
  },
  {
   "cell_type": "code",
   "execution_count": 5,
   "metadata": {},
   "outputs": [
    {
     "data": {
      "text/html": [
       "<div>\n",
       "<style scoped>\n",
       "    .dataframe tbody tr th:only-of-type {\n",
       "        vertical-align: middle;\n",
       "    }\n",
       "\n",
       "    .dataframe tbody tr th {\n",
       "        vertical-align: top;\n",
       "    }\n",
       "\n",
       "    .dataframe thead th {\n",
       "        text-align: right;\n",
       "    }\n",
       "</style>\n",
       "<table border=\"1\" class=\"dataframe\">\n",
       "  <thead>\n",
       "    <tr style=\"text-align: right;\">\n",
       "      <th></th>\n",
       "      <th>token</th>\n",
       "      <th>weight</th>\n",
       "    </tr>\n",
       "  </thead>\n",
       "  <tbody>\n",
       "    <tr>\n",
       "      <th>435563</th>\n",
       "      <td>concernthanks for</td>\n",
       "      <td>-1.657369</td>\n",
       "    </tr>\n",
       "    <tr>\n",
       "      <th>2002668</th>\n",
       "      <td>your concernthanks</td>\n",
       "      <td>-1.657369</td>\n",
       "    </tr>\n",
       "    <tr>\n",
       "      <th>435562</th>\n",
       "      <td>concernthanks</td>\n",
       "      <td>-1.657369</td>\n",
       "    </tr>\n",
       "    <tr>\n",
       "      <th>1700835</th>\n",
       "      <td>thanks</td>\n",
       "      <td>-1.627872</td>\n",
       "    </tr>\n",
       "    <tr>\n",
       "      <th>457184</th>\n",
       "      <td>cool you</td>\n",
       "      <td>-1.084424</td>\n",
       "    </tr>\n",
       "    <tr>\n",
       "      <th>1700742</th>\n",
       "      <td>thank you</td>\n",
       "      <td>-1.026411</td>\n",
       "    </tr>\n",
       "    <tr>\n",
       "      <th>200583</th>\n",
       "      <td>are cool</td>\n",
       "      <td>-0.984181</td>\n",
       "    </tr>\n",
       "    <tr>\n",
       "      <th>808895</th>\n",
       "      <td>hey hey</td>\n",
       "      <td>-0.920216</td>\n",
       "    </tr>\n",
       "    <tr>\n",
       "      <th>1700675</th>\n",
       "      <td>thank</td>\n",
       "      <td>-0.910976</td>\n",
       "    </tr>\n",
       "    <tr>\n",
       "      <th>837492</th>\n",
       "      <td>http en</td>\n",
       "      <td>-0.884435</td>\n",
       "    </tr>\n",
       "  </tbody>\n",
       "</table>\n",
       "</div>"
      ],
      "text/plain": [
       "                      token    weight\n",
       "435563    concernthanks for -1.657369\n",
       "2002668  your concernthanks -1.657369\n",
       "435562        concernthanks -1.657369\n",
       "1700835              thanks -1.627872\n",
       "457184             cool you -1.084424\n",
       "1700742           thank you -1.026411\n",
       "200583             are cool -0.984181\n",
       "808895              hey hey -0.920216\n",
       "1700675               thank -0.910976\n",
       "837492              http en -0.884435"
      ]
     },
     "execution_count": 5,
     "metadata": {},
     "output_type": "execute_result"
    }
   ],
   "source": [
    "df_model.sort_values('weight', ascending=True).head(10)"
   ]
  },
  {
   "cell_type": "code",
   "execution_count": 6,
   "metadata": {},
   "outputs": [
    {
     "data": {
      "text/html": [
       "<div>\n",
       "<style scoped>\n",
       "    .dataframe tbody tr th:only-of-type {\n",
       "        vertical-align: middle;\n",
       "    }\n",
       "\n",
       "    .dataframe tbody tr th {\n",
       "        vertical-align: top;\n",
       "    }\n",
       "\n",
       "    .dataframe thead th {\n",
       "        text-align: right;\n",
       "    }\n",
       "</style>\n",
       "<table border=\"1\" class=\"dataframe\">\n",
       "  <thead>\n",
       "    <tr style=\"text-align: right;\">\n",
       "      <th></th>\n",
       "      <th>token</th>\n",
       "      <th>weight</th>\n",
       "    </tr>\n",
       "  </thead>\n",
       "  <tbody>\n",
       "    <tr>\n",
       "      <th>305709</th>\n",
       "      <td>block block</td>\n",
       "      <td>12.796378</td>\n",
       "    </tr>\n",
       "    <tr>\n",
       "      <th>1169398</th>\n",
       "      <td>nipple nipple</td>\n",
       "      <td>11.051707</td>\n",
       "    </tr>\n",
       "    <tr>\n",
       "      <th>1169393</th>\n",
       "      <td>nipple</td>\n",
       "      <td>10.793317</td>\n",
       "    </tr>\n",
       "    <tr>\n",
       "      <th>1685046</th>\n",
       "      <td>teabag</td>\n",
       "      <td>9.681793</td>\n",
       "    </tr>\n",
       "    <tr>\n",
       "      <th>1685049</th>\n",
       "      <td>teabag teabag</td>\n",
       "      <td>9.666201</td>\n",
       "    </tr>\n",
       "    <tr>\n",
       "      <th>705752</th>\n",
       "      <td>freezer freezer</td>\n",
       "      <td>9.287123</td>\n",
       "    </tr>\n",
       "    <tr>\n",
       "      <th>705750</th>\n",
       "      <td>freezer</td>\n",
       "      <td>9.234097</td>\n",
       "    </tr>\n",
       "    <tr>\n",
       "      <th>341715</th>\n",
       "      <td>buttsecks</td>\n",
       "      <td>7.755660</td>\n",
       "    </tr>\n",
       "    <tr>\n",
       "      <th>341716</th>\n",
       "      <td>buttsecks buttsecks</td>\n",
       "      <td>7.740031</td>\n",
       "    </tr>\n",
       "    <tr>\n",
       "      <th>1947366</th>\n",
       "      <td>wikipedia hi</td>\n",
       "      <td>5.563389</td>\n",
       "    </tr>\n",
       "  </tbody>\n",
       "</table>\n",
       "</div>"
      ],
      "text/plain": [
       "                       token     weight\n",
       "305709           block block  12.796378\n",
       "1169398        nipple nipple  11.051707\n",
       "1169393               nipple  10.793317\n",
       "1685046               teabag   9.681793\n",
       "1685049        teabag teabag   9.666201\n",
       "705752       freezer freezer   9.287123\n",
       "705750               freezer   9.234097\n",
       "341715             buttsecks   7.755660\n",
       "341716   buttsecks buttsecks   7.740031\n",
       "1947366         wikipedia hi   5.563389"
      ]
     },
     "execution_count": 6,
     "metadata": {},
     "output_type": "execute_result"
    }
   ],
   "source": [
    "df_model.sort_values('weight', ascending=False).head(10)"
   ]
  },
  {
   "cell_type": "markdown",
   "metadata": {},
   "source": [
    "Interesting. Now let's see if we can use some simple methods to expose decision points. We'll develop a process to tokenize a document and drop out unique tokens. By removing tokens and recomputing the score, we should be able to see how any one token affects the prediction."
   ]
  },
  {
   "cell_type": "code",
   "execution_count": 7,
   "metadata": {},
   "outputs": [
    {
     "data": {
      "text/plain": [
       "['wikipedia', 'is', 'total', 'crap']"
      ]
     },
     "execution_count": 7,
     "metadata": {},
     "output_type": "execute_result"
    }
   ],
   "source": [
    "comment = 'Wikipedia is total crap!'\n",
    "tokens = tokenizer(comment)\n",
    "tokens"
   ]
  },
  {
   "cell_type": "markdown",
   "metadata": {},
   "source": [
    "Now let's drop one token at a time and create variations on the original comment. We'll keep the original comment as the first item for comparison."
   ]
  },
  {
   "cell_type": "code",
   "execution_count": 8,
   "metadata": {},
   "outputs": [
    {
     "data": {
      "text/plain": [
       "['Wikipedia is total crap!',\n",
       " 'Wikipedia is total !',\n",
       " 'Wikipedia  total crap!',\n",
       " 'Wikipedia is  crap!',\n",
       " 'Wikipedia is total crap!']"
      ]
     },
     "execution_count": 8,
     "metadata": {},
     "output_type": "execute_result"
    }
   ],
   "source": [
    "variants = [comment]\n",
    "for token in sorted(set(tokens)): # The set is very important!\n",
    "    variants.append(re.sub(token, '', comment))\n",
    "variants"
   ]
  },
  {
   "cell_type": "code",
   "execution_count": 9,
   "metadata": {},
   "outputs": [
    {
     "data": {
      "text/plain": [
       "['crap', 'is', 'total', 'wikipedia']"
      ]
     },
     "execution_count": 9,
     "metadata": {},
     "output_type": "execute_result"
    }
   ],
   "source": [
    "sorted(set(tokens))"
   ]
  },
  {
   "cell_type": "markdown",
   "metadata": {},
   "source": [
    "Generate new scores. Let's only look at the probability related to the positive case."
   ]
  },
  {
   "cell_type": "code",
   "execution_count": 10,
   "metadata": {},
   "outputs": [
    {
     "data": {
      "text/plain": [
       "array([0.96057224, 0.58360886, 0.9460504 , 0.93914789, 0.96057224])"
      ]
     },
     "execution_count": 10,
     "metadata": {},
     "output_type": "execute_result"
    }
   ],
   "source": [
    "y_probs = pipe.predict_proba(variants)[:,1]\n",
    "y_probs"
   ]
  },
  {
   "cell_type": "markdown",
   "metadata": {},
   "source": [
    "Compute the difference from the base score."
   ]
  },
  {
   "cell_type": "code",
   "execution_count": 11,
   "metadata": {},
   "outputs": [
    {
     "data": {
      "text/plain": [
       "array([0.37696339, 0.01452184, 0.02142435, 0.        ])"
      ]
     },
     "execution_count": 11,
     "metadata": {},
     "output_type": "execute_result"
    }
   ],
   "source": [
    "y_diffs = y_probs[0] - y_probs[1:]\n",
    "y_diffs"
   ]
  },
  {
   "cell_type": "markdown",
   "metadata": {},
   "source": [
    "Now let's assign these score differences as background spans in the original text."
   ]
  },
  {
   "cell_type": "code",
   "execution_count": 12,
   "metadata": {},
   "outputs": [
    {
     "data": {
      "text/plain": [
       "{'crap': 0.3769633854896386,\n",
       " 'is': 0.014521843133698198,\n",
       " 'total': 0.02142435427322198,\n",
       " 'wikipedia': 0.0}"
      ]
     },
     "execution_count": 12,
     "metadata": {},
     "output_type": "execute_result"
    }
   ],
   "source": [
    "weight_dict = {k:v for k,v in zip(list(sorted(set(tokens))), y_diffs)}\n",
    "weight_dict"
   ]
  },
  {
   "cell_type": "code",
   "execution_count": 13,
   "metadata": {},
   "outputs": [
    {
     "data": {
      "text/html": [
       "<pre>Wikipedia <span style=\"background-color: rgba(255, 0, 0, 0.01)\">is</span> <span style=\"background-color: rgba(255, 0, 0, 0.02)\">total</span> <span style=\"background-color: rgba(255, 0, 0, 0.38)\">crap</span>!</pre>"
      ],
      "text/plain": [
       "<IPython.core.display.HTML object>"
      ]
     },
     "execution_count": 13,
     "metadata": {},
     "output_type": "execute_result"
    }
   ],
   "source": [
    "output = '<pre>' + comment + '</pre>'\n",
    "for k,v in weight_dict.items():\n",
    "    span_string = '''<span style=\"background-color: rgba(255, 0, 0, %0.2f)\">%s</span>''' % (v,k)\n",
    "    output = re.sub(k, span_string, output)\n",
    "HTML(output)"
   ]
  },
  {
   "cell_type": "markdown",
   "metadata": {},
   "source": [
    "Cool, now let's try and functionalize that."
   ]
  },
  {
   "cell_type": "code",
   "execution_count": 14,
   "metadata": {},
   "outputs": [],
   "source": [
    "def highlight_toxic(text, pipe, norm=False):\n",
    "    # Get tokens\n",
    "    tokens = tokenizer(text)\n",
    "    # Create variants\n",
    "    variants = [text]\n",
    "    for token in sorted(set(tokens)):\n",
    "        variants.append(re.sub(token, '', text))\n",
    "    # Score variants\n",
    "    y_probs = pipe.predict_proba(variants)[:,1]\n",
    "    # Compute differences from base score \n",
    "    y_diffs = y_probs[0] - y_probs[1:]\n",
    "    # Normalize\n",
    "    if norm:\n",
    "        y_diffs /= np.linalg.norm(y_diffs, ord=1)\n",
    "    # Assign weights to tokens\n",
    "    weight_dict = {k:v for k,v in zip(list(sorted(set(tokens))), y_diffs)}\n",
    "    # Generate output\n",
    "    output = '<pre>' + text + '</pre>'\n",
    "    for k,v in weight_dict.items():\n",
    "        span_string = '''<span style=\"background-color: rgba(255, 0, 0, %0.2f)\">%s</span>''' % (v,k)\n",
    "        output = re.sub(r'\\b%s\\b' % k, span_string, output)\n",
    "    return output"
   ]
  },
  {
   "cell_type": "code",
   "execution_count": 15,
   "metadata": {},
   "outputs": [
    {
     "name": "stdout",
     "output_type": "stream",
     "text": [
      "[[0.95068748 0.04931252]]\n"
     ]
    },
    {
     "data": {
      "text/html": [
       "<pre>Thank <span style=\"background-color: rgba(255, 0, 0, -0.06)\">you</span> <span style=\"background-color: rgba(255, 0, 0, -0.01)\">for</span> <span style=\"background-color: rgba(255, 0, 0, -0.01)\">the</span> <span style=\"background-color: rgba(255, 0, 0, -0.00)\">suggestion</span></pre>"
      ],
      "text/plain": [
       "<IPython.core.display.HTML object>"
      ]
     },
     "execution_count": 15,
     "metadata": {},
     "output_type": "execute_result"
    }
   ],
   "source": [
    "output = highlight_toxic('Thank you for the suggestion', pipe)\n",
    "print(pipe.predict_proba(['Thank you for the suggestion']))\n",
    "HTML(output)"
   ]
  },
  {
   "cell_type": "code",
   "execution_count": 16,
   "metadata": {},
   "outputs": [
    {
     "name": "stdout",
     "output_type": "stream",
     "text": [
      "[[0.79067608 0.20932392]]\n"
     ]
    },
    {
     "data": {
      "text/html": [
       "<pre>I <span style=\"background-color: rgba(255, 0, 0, -0.06)\">hope</span> <span style=\"background-color: rgba(255, 0, 0, 0.02)\">you</span> <span style=\"background-color: rgba(255, 0, 0, -0.16)\">have</span> <span style=\"background-color: rgba(255, 0, 0, -0.09)\">a</span> <span style=\"background-color: rgba(255, 0, 0, -0.02)\">bad</span> <span style=\"background-color: rgba(255, 0, 0, -0.02)\">day</span></pre>"
      ],
      "text/plain": [
       "<IPython.core.display.HTML object>"
      ]
     },
     "execution_count": 16,
     "metadata": {},
     "output_type": "execute_result"
    }
   ],
   "source": [
    "output = highlight_toxic('I hope you have a bad day', pipe)\n",
    "print(pipe.predict_proba(['I hope you have a bad day']))\n",
    "HTML(output)"
   ]
  },
  {
   "cell_type": "code",
   "execution_count": 17,
   "metadata": {},
   "outputs": [
    {
     "name": "stdout",
     "output_type": "stream",
     "text": [
      "[[0.06163979 0.93836021]]\n"
     ]
    },
    {
     "data": {
      "text/html": [
       "<pre>This <span style=\"background-color: rgba(255, 0, 0, 0.03)\">is</span> <span style=\"background-color: rgba(255, 0, 0, 0.03)\">the</span> <span style=\"background-color: rgba(255, 0, 0, 0.16)\">worst</span> <span style=\"background-color: rgba(255, 0, 0, -0.01)\">edit</span> <span style=\"background-color: rgba(255, 0, 0, 0.02)\">ever</span>. Go <span style=\"background-color: rgba(255, 0, 0, 0.04)\">jump</span> <span style=\"background-color: rgba(255, 0, 0, 0.06)\">off</span> <span style=\"background-color: rgba(255, 0, 0, 0.01)\">a</span> <span style=\"background-color: rgba(255, 0, 0, -0.01)\">bridge</span>.</pre>"
      ],
      "text/plain": [
       "<IPython.core.display.HTML object>"
      ]
     },
     "execution_count": 17,
     "metadata": {},
     "output_type": "execute_result"
    }
   ],
   "source": [
    "output = highlight_toxic('This is the worst edit ever. Go jump off a bridge.', pipe)\n",
    "print(pipe.predict_proba(['This is the worst edit ever. Go jump off a bridge.']))\n",
    "HTML(output)"
   ]
  },
  {
   "cell_type": "markdown",
   "metadata": {},
   "source": [
    "Let's try it out on some random samples."
   ]
  },
  {
   "cell_type": "code",
   "execution_count": 18,
   "metadata": {},
   "outputs": [],
   "source": [
    "normal_comments = df[df['y']==0].sample(10, random_state=seed)['comment']\n",
    "y_prob_normal = pipe.predict_proba(normal_comments)\n",
    "normal_examples = [highlight_toxic(comment, pipe) for comment in normal_comments]"
   ]
  },
  {
   "cell_type": "code",
   "execution_count": 19,
   "metadata": {},
   "outputs": [
    {
     "name": "stdout",
     "output_type": "stream",
     "text": [
      "[0.93636541 0.06363459]\n"
     ]
    },
    {
     "data": {
      "text/html": [
       "<pre>\"\n",
       "\n",
       "*Pursuant <span style=\"background-color: rgba(255, 0, 0, -0.06)\">to</span> Wikipedia:Verifiability, \"\"The <span style=\"background-color: rgba(255, 0, 0, 0.01)\">threshold</span> <span style=\"background-color: rgba(255, 0, 0, 0.01)\">for</span> <span style=\"background-color: rgba(255, 0, 0, -0.01)\">inclusion</span> <span style=\"background-color: rgba(255, 0, 0, -0.22)\">in</span> Wikipedia <span style=\"background-color: rgba(255, 0, 0, 0.05)\">is</span> <span style=\"background-color: rgba(255, 0, 0, -0.01)\">verifiability</span>\"\". The <span style=\"background-color: rgba(255, 0, 0, 0.02)\">only</span> <span style=\"background-color: rgba(255, 0, 0, 0.01)\">reason</span> <span style=\"background-color: rgba(255, 0, 0, -0.03)\">content</span> <span style=\"background-color: rgba(255, 0, 0, -0.02)\">should</span> <span style=\"background-color: rgba(255, 0, 0, 0.05)\">be</span> <span style=\"background-color: rgba(255, 0, 0, 0.02)\">removed</span> <span style=\"background-color: rgba(255, 0, 0, 0.01)\">from</span> <span style=\"background-color: rgba(255, 0, 0, -0.00)\">an</span> <span style=\"background-color: rgba(255, 0, 0, -0.01)\">article</span> <span style=\"background-color: rgba(255, 0, 0, 0.05)\">is</span> <span style=\"background-color: rgba(255, 0, 0, -0.01)\">if</span> <span style=\"background-color: rgba(255, 0, 0, -0.18)\">it</span> <span style=\"background-color: rgba(255, 0, 0, -0.03)\">cannot</span> <span style=\"background-color: rgba(255, 0, 0, 0.05)\">be</span> <span style=\"background-color: rgba(255, 0, 0, 0.01)\">verified</span>.  <span style=\"background-color: rgba(255, 0, 0, 0.01)\">repeated</span> <span style=\"background-color: rgba(255, 0, 0, 0.04)\">removal</span> <span style=\"background-color: rgba(255, 0, 0, 0.01)\">of</span> <span style=\"background-color: rgba(255, 0, 0, -0.01)\">the</span> <span style=\"background-color: rgba(255, 0, 0, -0.03)\">subject</span>'<span style=\"background-color: rgba(255, 0, 0, -0.06)\">s</span> <span style=\"background-color: rgba(255, 0, 0, -0.03)\">acting</span> <span style=\"background-color: rgba(255, 0, 0, -0.04)\">credits</span> <span style=\"background-color: rgba(255, 0, 0, -0.01)\">must</span> <span style=\"background-color: rgba(255, 0, 0, 0.02)\">stop</span>. He <span style=\"background-color: rgba(255, 0, 0, 0.05)\">is</span> <span style=\"background-color: rgba(255, 0, 0, 0.01)\">deliberately</span> <span style=\"background-color: rgba(255, 0, 0, -0.01)\">trying</span> <span style=\"background-color: rgba(255, 0, 0, -0.06)\">to</span> <span style=\"background-color: rgba(255, 0, 0, -0.01)\">compromise</span> <span style=\"background-color: rgba(255, 0, 0, -0.01)\">the</span> <span style=\"background-color: rgba(255, 0, 0, -0.01)\">integrity</span> <span style=\"background-color: rgba(255, 0, 0, 0.01)\">of</span> Wikipedia <span style=\"background-color: rgba(255, 0, 0, -0.01)\">by</span> <span style=\"background-color: rgba(255, 0, 0, -0.02)\">ignoring</span> <span style=\"background-color: rgba(255, 0, 0, -0.01)\">the</span> <span style=\"background-color: rgba(255, 0, 0, -0.03)\">consensus</span> <span style=\"background-color: rgba(255, 0, 0, 0.01)\">of</span> <span style=\"background-color: rgba(255, 0, 0, -0.01)\">the</span> AfD <span style=\"background-color: rgba(255, 0, 0, 0.00)\">discussion</span>, <span style=\"background-color: rgba(255, 0, 0, 0.01)\">and</span> <span style=\"background-color: rgba(255, 0, 0, 0.01)\">continuing</span> <span style=\"background-color: rgba(255, 0, 0, -0.06)\">to</span> <span style=\"background-color: rgba(255, 0, 0, -0.07)\">edit</span> <span style=\"background-color: rgba(255, 0, 0, 0.00)\">war</span> <span style=\"background-color: rgba(255, 0, 0, -0.01)\">against</span> <span style=\"background-color: rgba(255, 0, 0, 0.01)\">thi</span> <span style=\"background-color: rgba(255, 0, 0, -0.01)\">article</span> <span style=\"background-color: rgba(255, 0, 0, -0.03)\">that</span> <span style=\"background-color: rgba(255, 0, 0, 0.02)\">he</span> <span style=\"background-color: rgba(255, 0, 0, 0.00)\">took</span> <span style=\"background-color: rgba(255, 0, 0, -0.01)\">the</span> <span style=\"background-color: rgba(255, 0, 0, -0.00)\">position</span> <span style=\"background-color: rgba(255, 0, 0, -0.06)\">to</span> <span style=\"background-color: rgba(255, 0, 0, 0.00)\">delete</span>. The AfD <span style=\"background-color: rgba(255, 0, 0, -0.03)\">consensus</span> <span style=\"background-color: rgba(255, 0, 0, -0.01)\">was</span> <span style=\"background-color: rgba(255, 0, 0, 0.01)\">not</span> <span style=\"background-color: rgba(255, 0, 0, -0.06)\">to</span> <span style=\"background-color: rgba(255, 0, 0, 0.00)\">delete</span>. The <span style=\"background-color: rgba(255, 0, 0, -0.03)\">acting</span> <span style=\"background-color: rgba(255, 0, 0, -0.04)\">credits</span> <span style=\"background-color: rgba(255, 0, 0, 0.01)\">are</span> <span style=\"background-color: rgba(255, 0, 0, -0.03)\">verifiable</span> <span style=\"background-color: rgba(255, 0, 0, 0.01)\">and</span> <span style=\"background-color: rgba(255, 0, 0, 0.02)\">they</span> <span style=\"background-color: rgba(255, 0, 0, -0.02)\">should</span> <span style=\"background-color: rgba(255, 0, 0, 0.01)\">not</span> <span style=\"background-color: rgba(255, 0, 0, 0.05)\">be</span> <span style=\"background-color: rgba(255, 0, 0, 0.02)\">removed</span> <span style=\"background-color: rgba(255, 0, 0, 0.01)\">from</span> <span style=\"background-color: rgba(255, 0, 0, -0.01)\">the</span> <span style=\"background-color: rgba(255, 0, 0, -0.01)\">article</span>.  '<span style=\"background-color: rgba(255, 0, 0, -0.06)\">s</span> <span style=\"background-color: rgba(255, 0, 0, 0.01)\">repeated</span> <span style=\"background-color: rgba(255, 0, 0, 0.04)\">removal</span> <span style=\"background-color: rgba(255, 0, 0, 0.01)\">of</span> <span style=\"background-color: rgba(255, 0, 0, -0.02)\">such</span> <span style=\"background-color: rgba(255, 0, 0, -0.03)\">acting</span> <span style=\"background-color: rgba(255, 0, 0, -0.04)\">credits</span> <span style=\"background-color: rgba(255, 0, 0, -0.04)\">constitutes</span> <span style=\"background-color: rgba(255, 0, 0, 0.01)\">vandalism</span> <span style=\"background-color: rgba(255, 0, 0, -0.03)\">pursuant</span> <span style=\"background-color: rgba(255, 0, 0, -0.06)\">to</span> Wikipedia:Vandalism, <span style=\"background-color: rgba(255, 0, 0, 0.01)\">and</span> <span style=\"background-color: rgba(255, 0, 0, 0.02)\">he</span> <span style=\"background-color: rgba(255, 0, 0, -0.02)\">has</span> <span style=\"background-color: rgba(255, 0, 0, 0.01)\">been</span> <span style=\"background-color: rgba(255, 0, 0, 0.01)\">warned</span> <span style=\"background-color: rgba(255, 0, 0, -0.06)\">to</span> <span style=\"background-color: rgba(255, 0, 0, 0.02)\">stop</span>.   \"</pre>"
      ],
      "text/plain": [
       "<IPython.core.display.HTML object>"
      ]
     },
     "execution_count": 19,
     "metadata": {},
     "output_type": "execute_result"
    }
   ],
   "source": [
    "i = 1\n",
    "print(y_prob_normal[i])\n",
    "HTML(normal_examples[i])"
   ]
  },
  {
   "cell_type": "code",
   "execution_count": 20,
   "metadata": {},
   "outputs": [],
   "source": [
    "toxic_comments = df[df['y']==1].sample(10, random_state=seed)['comment']\n",
    "y_prob_toxic = pipe.predict_proba(toxic_comments)\n",
    "toxic_examples = [highlight_toxic(comment, pipe) for comment in toxic_comments]"
   ]
  },
  {
   "cell_type": "code",
   "execution_count": 21,
   "metadata": {
    "scrolled": true
   },
   "outputs": [
    {
     "name": "stdout",
     "output_type": "stream",
     "text": [
      "[0.4498492 0.5501508]\n"
     ]
    },
    {
     "data": {
      "text/html": [
       "<pre>\n",
       "\n",
       "\n",
       "I <span style=\"background-color: rgba(255, 0, 0, 0.03)\">suggest</span> <span style=\"background-color: rgba(255, 0, 0, 0.07)\">you</span> <span style=\"background-color: rgba(255, 0, 0, 0.03)\">get</span> <span style=\"background-color: rgba(255, 0, 0, 0.06)\">some</span> <span style=\"background-color: rgba(255, 0, 0, 0.24)\">mental</span> <span style=\"background-color: rgba(255, 0, 0, -0.07)\">help</span>.  </pre>"
      ],
      "text/plain": [
       "<IPython.core.display.HTML object>"
      ]
     },
     "execution_count": 21,
     "metadata": {},
     "output_type": "execute_result"
    }
   ],
   "source": [
    "i = 0\n",
    "print(y_prob_toxic[i])\n",
    "HTML(toxic_examples[i])"
   ]
  },
  {
   "cell_type": "code",
   "execution_count": 22,
   "metadata": {},
   "outputs": [
    {
     "name": "stdout",
     "output_type": "stream",
     "text": [
      "[0.32386961 0.67613039]\n"
     ]
    },
    {
     "data": {
      "text/html": [
       "<pre>\n",
       "\n",
       "== Hubris ==\n",
       "\n",
       "Your <span style=\"background-color: rgba(255, 0, 0, 0.02)\">unconscionable</span> <span style=\"background-color: rgba(255, 0, 0, 0.03)\">hubris</span> <span style=\"background-color: rgba(255, 0, 0, -0.03)\">will</span> <span style=\"background-color: rgba(255, 0, 0, -0.01)\">be</span> <span style=\"background-color: rgba(255, 0, 0, 0.02)\">your</span> <span style=\"background-color: rgba(255, 0, 0, -0.01)\">downfall</span>. With <span style=\"background-color: rgba(255, 0, 0, -0.06)\">the</span> <span style=\"background-color: rgba(255, 0, 0, -0.05)\">simple</span> <span style=\"background-color: rgba(255, 0, 0, -0.05)\">sword</span> <span style=\"background-color: rgba(255, 0, 0, -0.00)\">of</span> <span style=\"background-color: rgba(255, 0, 0, -0.04)\">truth</span> <span style=\"background-color: rgba(255, 0, 0, -0.03)\">will</span> I <span style=\"background-color: rgba(255, 0, 0, 0.03)\">vanquish</span> <span style=\"background-color: rgba(255, 0, 0, 0.23)\">ye</span>. Indeed, <span style=\"background-color: rgba(255, 0, 0, 0.03)\">woe</span> <span style=\"background-color: rgba(255, 0, 0, -0.01)\">unto</span> <span style=\"background-color: rgba(255, 0, 0, 0.23)\">ye</span>, <span style=\"background-color: rgba(255, 0, 0, -0.02)\">for</span> I <span style=\"background-color: rgba(255, 0, 0, 0.03)\">wax</span> <span style=\"background-color: rgba(255, 0, 0, 0.30)\">terrible</span>, <span style=\"background-color: rgba(255, 0, 0, 0.02)\">wielding</span> <span style=\"background-color: rgba(255, 0, 0, -0.06)\">the</span> <span style=\"background-color: rgba(255, 0, 0, 0.01)\">blade</span>, <span style=\"background-color: rgba(255, 0, 0, -0.01)\">ready</span> <span style=\"background-color: rgba(255, 0, 0, -0.06)\">to</span> <span style=\"background-color: rgba(255, 0, 0, 0.04)\">smite</span>.   </pre>"
      ],
      "text/plain": [
       "<IPython.core.display.HTML object>"
      ]
     },
     "execution_count": 22,
     "metadata": {},
     "output_type": "execute_result"
    }
   ],
   "source": [
    "i = 1\n",
    "print(y_prob_toxic[i])\n",
    "HTML(toxic_examples[i])"
   ]
  },
  {
   "cell_type": "code",
   "execution_count": 23,
   "metadata": {},
   "outputs": [
    {
     "name": "stdout",
     "output_type": "stream",
     "text": [
      "[0.1222434 0.8777566]\n"
     ]
    },
    {
     "data": {
      "text/html": [
       "<pre>\n",
       "\n",
       "==NPOV==\n",
       "<span style=\"background-color: rgba(255, 0, 0, 0.05)\">damnit</span>, <span style=\"background-color: rgba(255, 0, 0, -0.01)\">liberals</span> <span style=\"background-color: rgba(255, 0, 0, 0.00)\">and</span> <span style=\"background-color: rgba(255, 0, 0, 0.03)\">blogger</span> <span style=\"background-color: rgba(255, 0, 0, 0.07)\">are</span> <span style=\"background-color: rgba(255, 0, 0, 0.07)\">going</span> <span style=\"background-color: rgba(255, 0, 0, -0.04)\">to</span> <span style=\"background-color: rgba(255, 0, 0, -0.01)\">try</span> <span style=\"background-color: rgba(255, 0, 0, 0.00)\">and</span> <span style=\"background-color: rgba(255, 0, 0, 0.01)\">spin</span> <span style=\"background-color: rgba(255, 0, 0, 0.09)\">the</span> <span style=\"background-color: rgba(255, 0, 0, 0.48)\">hell</span> <span style=\"background-color: rgba(255, 0, 0, 0.00)\">out</span> <span style=\"background-color: rgba(255, 0, 0, 0.03)\">of</span> <span style=\"background-color: rgba(255, 0, 0, 0.12)\">this</span>, <span style=\"background-color: rgba(255, 0, 0, -0.00)\">look</span> <span style=\"background-color: rgba(255, 0, 0, 0.00)\">at</span> <span style=\"background-color: rgba(255, 0, 0, 0.09)\">the</span> <span style=\"background-color: rgba(255, 0, 0, -0.00)\">version</span> <span style=\"background-color: rgba(255, 0, 0, -0.10)\">it</span> <span style=\"background-color: rgba(255, 0, 0, -0.03)\">was</span> <span style=\"background-color: rgba(255, 0, 0, 0.01)\">protected</span> <span style=\"background-color: rgba(255, 0, 0, -0.02)\">on</span>! Why <span style=\"background-color: rgba(255, 0, 0, 0.16)\">is</span> <span style=\"background-color: rgba(255, 0, 0, -0.02)\">something</span> <span style=\"background-color: rgba(255, 0, 0, -0.06)\">as</span> <span style=\"background-color: rgba(255, 0, 0, -0.04)\">minor</span> <span style=\"background-color: rgba(255, 0, 0, -0.06)\">as</span> <span style=\"background-color: rgba(255, 0, 0, 0.42)\">a</span> <span style=\"background-color: rgba(255, 0, 0, 0.03)\">hunting</span> <span style=\"background-color: rgba(255, 0, 0, 0.01)\">accident</span> <span style=\"background-color: rgba(255, 0, 0, 0.02)\">even</span> <span style=\"background-color: rgba(255, 0, 0, 0.01)\">listed</span> <span style=\"background-color: rgba(255, 0, 0, 0.10)\">in</span> <span style=\"background-color: rgba(255, 0, 0, 0.12)\">this</span> <span style=\"background-color: rgba(255, 0, 0, -0.02)\">article</span>! It <span style=\"background-color: rgba(255, 0, 0, -0.03)\">reads</span> <span style=\"background-color: rgba(255, 0, 0, 0.04)\">like</span> <span style=\"background-color: rgba(255, 0, 0, 0.42)\">a</span> <span style=\"background-color: rgba(255, 0, 0, -0.01)\">blog</span> <span style=\"background-color: rgba(255, 0, 0, -0.02)\">from</span> <span style=\"background-color: rgba(255, 0, 0, 0.09)\">the</span> <span style=\"background-color: rgba(255, 0, 0, 0.16)\">freaking</span> Daily Kos, <span style=\"background-color: rgba(255, 0, 0, -0.04)\">please</span> <span style=\"background-color: rgba(255, 0, 0, -0.01)\">clean</span> <span style=\"background-color: rgba(255, 0, 0, 0.12)\">this</span> <span style=\"background-color: rgba(255, 0, 0, -0.02)\">up</span> <span style=\"background-color: rgba(255, 0, 0, -0.04)\">to</span> <span style=\"background-color: rgba(255, 0, 0, 0.05)\">conform</span> <span style=\"background-color: rgba(255, 0, 0, -0.04)\">to</span> Neutral POV, <span style=\"background-color: rgba(255, 0, 0, 0.00)\">and</span> <span style=\"background-color: rgba(255, 0, 0, 0.03)\">not</span> <span style=\"background-color: rgba(255, 0, 0, 0.00)\">exploit</span> <span style=\"background-color: rgba(255, 0, 0, 0.42)\">a</span> <span style=\"background-color: rgba(255, 0, 0, -0.04)\">minor</span> <span style=\"background-color: rgba(255, 0, 0, 0.01)\">accident</span> <span style=\"background-color: rgba(255, 0, 0, 0.04)\">like</span> <span style=\"background-color: rgba(255, 0, 0, -0.10)\">it</span>'<span style=\"background-color: rgba(255, 0, 0, -0.08)\">s</span> <span style=\"background-color: rgba(255, 0, 0, 0.42)\">a</span> <span style=\"background-color: rgba(255, 0, 0, -0.00)\">big</span> <span style=\"background-color: rgba(255, 0, 0, -0.02)\">deal</span>! </pre>"
      ],
      "text/plain": [
       "<IPython.core.display.HTML object>"
      ]
     },
     "execution_count": 23,
     "metadata": {},
     "output_type": "execute_result"
    }
   ],
   "source": [
    "i = 7\n",
    "print(y_prob_toxic[i])\n",
    "HTML(toxic_examples[i])"
   ]
  },
  {
   "cell_type": "code",
   "execution_count": 24,
   "metadata": {},
   "outputs": [
    {
     "name": "stdout",
     "output_type": "stream",
     "text": [
      "[5.71562827e-06 9.99994284e-01]\n"
     ]
    },
    {
     "data": {
      "text/html": [
       "<pre>\"\n",
       "\n",
       "== Gregalton: Douchemaster Supreme ==\n",
       "\n",
       "I'<span style=\"background-color: rgba(255, 0, 0, 0.00)\">m</span> <span style=\"background-color: rgba(255, 0, 0, 0.00)\">not</span> <span style=\"background-color: rgba(255, 0, 0, -0.00)\">an</span> <span style=\"background-color: rgba(255, 0, 0, -0.00)\">editor</span>, <span style=\"background-color: rgba(255, 0, 0, -0.00)\">so</span> I <span style=\"background-color: rgba(255, 0, 0, 0.00)\">really</span> <span style=\"background-color: rgba(255, 0, 0, -0.00)\">don</span>'<span style=\"background-color: rgba(255, 0, 0, -0.00)\">t</span> <span style=\"background-color: rgba(255, 0, 0, -0.00)\">have</span> <span style=\"background-color: rgba(255, 0, 0, 0.00)\">a</span> <span style=\"background-color: rgba(255, 0, 0, 0.00)\">problem</span> <span style=\"background-color: rgba(255, 0, 0, -0.00)\">calling</span> <span style=\"background-color: rgba(255, 0, 0, 0.00)\">you</span> <span style=\"background-color: rgba(255, 0, 0, 0.00)\">a</span> <span style=\"background-color: rgba(255, 0, 0, 0.00)\">douchebag</span>. The <span style=\"background-color: rgba(255, 0, 0, 0.00)\">fact</span> <span style=\"background-color: rgba(255, 0, 0, -0.00)\">that</span> <span style=\"background-color: rgba(255, 0, 0, 0.00)\">the</span> <span style=\"background-color: rgba(255, 0, 0, 0.00)\">article</span> <span style=\"background-color: rgba(255, 0, 0, 0.00)\">considers</span> <span style=\"background-color: rgba(255, 0, 0, -0.00)\">anyone</span> <span style=\"background-color: rgba(255, 0, 0, 0.00)\">who</span> <span style=\"background-color: rgba(255, 0, 0, -0.00)\">criticizes</span> <span style=\"background-color: rgba(255, 0, 0, 0.00)\">the</span> <span style=\"background-color: rgba(255, 0, 0, 0.00)\">practice</span> <span style=\"background-color: rgba(255, 0, 0, -0.00)\">of</span> FRB <span style=\"background-color: rgba(255, 0, 0, 0.00)\">as</span> <span style=\"background-color: rgba(255, 0, 0, -0.00)\">non</span>-<span style=\"background-color: rgba(255, 0, 0, -0.00)\">mainstream</span> <span style=\"background-color: rgba(255, 0, 0, -0.00)\">raised</span> <span style=\"background-color: rgba(255, 0, 0, 0.00)\">the</span> <span style=\"background-color: rgba(255, 0, 0, -0.00)\">flag</span> <span style=\"background-color: rgba(255, 0, 0, -0.00)\">in</span> <span style=\"background-color: rgba(255, 0, 0, 0.00)\">my</span> <span style=\"background-color: rgba(255, 0, 0, -0.00)\">mind</span>, <span style=\"background-color: rgba(255, 0, 0, -0.00)\">that</span> <span style=\"background-color: rgba(255, 0, 0, 0.00)\">is</span>, <span style=\"background-color: rgba(255, 0, 0, -0.00)\">made</span> <span style=\"background-color: rgba(255, 0, 0, 0.00)\">me</span> <span style=\"background-color: rgba(255, 0, 0, -0.00)\">check</span> <span style=\"background-color: rgba(255, 0, 0, 0.00)\">the</span> <span style=\"background-color: rgba(255, 0, 0, -0.00)\">discussion</span> <span style=\"background-color: rgba(255, 0, 0, 0.00)\">page</span>. You'<span style=\"background-color: rgba(255, 0, 0, -0.00)\">ve</span> <span style=\"background-color: rgba(255, 0, 0, -0.00)\">done</span> <span style=\"background-color: rgba(255, 0, 0, 0.00)\">more</span> <span style=\"background-color: rgba(255, 0, 0, -0.00)\">to</span> <span style=\"background-color: rgba(255, 0, 0, -0.00)\">bias</span> <span style=\"background-color: rgba(255, 0, 0, 0.00)\">the</span> <span style=\"background-color: rgba(255, 0, 0, 0.00)\">article</span> <span style=\"background-color: rgba(255, 0, 0, 0.00)\">than</span> <span style=\"background-color: rgba(255, 0, 0, -0.00)\">these</span> <span style=\"background-color: rgba(255, 0, 0, -0.00)\">supposed</span> \"\"<span style=\"background-color: rgba(255, 0, 0, 0.00)\">conspiracy</span>\"\" <span style=\"background-color: rgba(255, 0, 0, -0.00)\">people</span> <span style=\"background-color: rgba(255, 0, 0, -0.00)\">probably</span> <span style=\"background-color: rgba(255, 0, 0, 0.00)\">did</span>. At <span style=\"background-color: rgba(255, 0, 0, 0.00)\">any</span> <span style=\"background-color: rgba(255, 0, 0, -0.00)\">rate</span>, <span style=\"background-color: rgba(255, 0, 0, 0.02)\">fuck</span> Wikipedia, <span style=\"background-color: rgba(255, 0, 0, -0.00)\">and</span> <span style=\"background-color: rgba(255, 0, 0, 0.02)\">fuck</span> Gregalton; I <span style=\"background-color: rgba(255, 0, 0, -0.00)\">wait</span> <span style=\"background-color: rgba(255, 0, 0, -0.00)\">for</span> <span style=\"background-color: rgba(255, 0, 0, 0.00)\">the</span> <span style=\"background-color: rgba(255, 0, 0, -0.00)\">day</span> <span style=\"background-color: rgba(255, 0, 0, 0.00)\">when</span> Knol (<span style=\"background-color: rgba(255, 0, 0, 0.00)\">google</span>'<span style=\"background-color: rgba(255, 0, 0, -0.00)\">s</span> <span style=\"background-color: rgba(255, 0, 0, 0.00)\">wikipedia</span>, <span style=\"background-color: rgba(255, 0, 0, -0.00)\">written</span> <span style=\"background-color: rgba(255, 0, 0, 0.00)\">by</span> <span style=\"background-color: rgba(255, 0, 0, 0.00)\">experts</span>: <span style=\"background-color: rgba(255, 0, 0, 0.00)\">reality</span>, <span style=\"background-color: rgba(255, 0, 0, 0.00)\">not</span> <span style=\"background-color: rgba(255, 0, 0, 0.00)\">wikiality</span>) <span style=\"background-color: rgba(255, 0, 0, -0.00)\">has</span> <span style=\"background-color: rgba(255, 0, 0, 0.00)\">a</span> <span style=\"background-color: rgba(255, 0, 0, -0.00)\">good</span> <span style=\"background-color: rgba(255, 0, 0, 0.00)\">article</span> <span style=\"background-color: rgba(255, 0, 0, 0.00)\">under</span> <span style=\"background-color: rgba(255, 0, 0, 0.00)\">the</span> <span style=\"background-color: rgba(255, 0, 0, 0.00)\">same</span> <span style=\"background-color: rgba(255, 0, 0, -0.00)\">title</span> (<span style=\"background-color: rgba(255, 0, 0, -0.00)\">and</span> <span style=\"background-color: rgba(255, 0, 0, -0.00)\">it</span>'<span style=\"background-color: rgba(255, 0, 0, -0.00)\">s</span> <span style=\"background-color: rgba(255, 0, 0, -0.00)\">written</span> <span style=\"background-color: rgba(255, 0, 0, 0.00)\">by</span> <span style=\"background-color: rgba(255, 0, 0, 0.00)\">one</span> <span style=\"background-color: rgba(255, 0, 0, -0.00)\">of</span> <span style=\"background-color: rgba(255, 0, 0, -0.00)\">these</span> \"\"<span style=\"background-color: rgba(255, 0, 0, -0.00)\">non</span>-<span style=\"background-color: rgba(255, 0, 0, -0.00)\">mainstream</span>\"\" <span style=\"background-color: rgba(255, 0, 0, 0.00)\">economists</span> <span style=\"background-color: rgba(255, 0, 0, 0.00)\">the</span> <span style=\"background-color: rgba(255, 0, 0, 0.00)\">article</span> <span style=\"background-color: rgba(255, 0, 0, -0.00)\">talks</span> <span style=\"background-color: rgba(255, 0, 0, -0.00)\">about</span>).\n",
       "\n",
       "You'<span style=\"background-color: rgba(255, 0, 0, -0.00)\">re</span> <span style=\"background-color: rgba(255, 0, 0, 0.00)\">a</span> <span style=\"background-color: rgba(255, 0, 0, 0.00)\">douchebag</span>, <span style=\"background-color: rgba(255, 0, 0, -0.00)\">gregalton</span>.  A <span style=\"background-color: rgba(255, 0, 0, 0.00)\">big</span> <span style=\"background-color: rgba(255, 0, 0, 0.00)\">fat</span> <span style=\"background-color: rgba(255, 0, 0, -0.00)\">fractional</span> <span style=\"background-color: rgba(255, 0, 0, -0.00)\">reserve</span> <span style=\"background-color: rgba(255, 0, 0, -0.00)\">banking</span> <span style=\"background-color: rgba(255, 0, 0, 0.00)\">loving</span> <span style=\"background-color: rgba(255, 0, 0, 0.00)\">douchebag</span>.\"</pre>"
      ],
      "text/plain": [
       "<IPython.core.display.HTML object>"
      ]
     },
     "execution_count": 24,
     "metadata": {},
     "output_type": "execute_result"
    }
   ],
   "source": [
    "i = 8\n",
    "print(y_prob_toxic[i])\n",
    "HTML(toxic_examples[i])"
   ]
  },
  {
   "cell_type": "markdown",
   "metadata": {},
   "source": [
    "So...it seems like dropping out one token at a time isn't going to cut it. Even though the model is scoring this comment as toxic, it is having some issues highlighting specific segments. Let's dive into the model and drive highlighting by the exact contribution to each prediction."
   ]
  },
  {
   "cell_type": "code",
   "execution_count": 25,
   "metadata": {},
   "outputs": [],
   "source": [
    "comment = toxic_comments.values[8]\n",
    "features = pipe.named_steps['vect'].get_feature_names() # Don't cast this to a numpy array...\n",
    "counts = pipe.named_steps['vect'].transform([comment]).toarray().flatten()\n",
    "w = pipe.named_steps['clf'].coef_.flatten()"
   ]
  },
  {
   "cell_type": "code",
   "execution_count": 26,
   "metadata": {
    "scrolled": true
   },
   "outputs": [
    {
     "data": {
      "text/plain": [
       "{'a': 1.2088480945726323,\n",
       " 'about': -0.2607603013466355,\n",
       " 'an': 0.2589215365669668,\n",
       " 'and': -0.2670906313375103,\n",
       " 'any': -0.01776723571584512,\n",
       " 'anyone': -0.15207051850937595,\n",
       " 'article': -0.9811387856680129,\n",
       " 'as': -0.16735390192665595,\n",
       " 'at': -0.16784033999245604,\n",
       " 'banking': -0.15026369731312011,\n",
       " 'bias': 0.15444237518778658,\n",
       " 'big': 0.4241447863419349,\n",
       " 'by': -0.05913132542296167,\n",
       " 'calling': -0.034323493004453004,\n",
       " 'check': -0.358014700930834,\n",
       " 'considers': 0.023000681317583403,\n",
       " 'conspiracy': 0.10950413355480988,\n",
       " 'criticizes': -0.03014604981136815,\n",
       " 'day': -0.1126251987953881,\n",
       " 'did': -0.27519608091791237,\n",
       " 'discussion': -0.1855866443477259,\n",
       " 'don': -0.04834424964650836,\n",
       " 'done': -0.08994546895596615,\n",
       " 'douchebag': 2.940380037365341,\n",
       " 'douchemaster': 8.323732967922443e-07,\n",
       " 'economists': 0.0018935977790262074,\n",
       " 'editor': -0.1384600955434151,\n",
       " 'experts': 0.06117111631735238,\n",
       " 'fact': -0.035057845505748884,\n",
       " 'fat': 1.2038253328081299,\n",
       " 'flag': 0.13262530786773408,\n",
       " 'for': 0.027827405109257353,\n",
       " 'fractional': -0.04997267217843554,\n",
       " 'frb': 0.01104389546404162,\n",
       " 'fuck': 7.8667232892147165,\n",
       " 'good': -0.21879103638813488,\n",
       " 'google': 0.29054104254315916,\n",
       " 'gregalton': -0.5375583475490292,\n",
       " 'has': -0.1310832660438679,\n",
       " 'have': -0.23503256574665246,\n",
       " 'i': -0.4047212161547987,\n",
       " 'in': -0.1995452356395329,\n",
       " 'is': 0.06512366995524317,\n",
       " 'it': -0.04459418934678589,\n",
       " 'knol': -0.0842158143317214,\n",
       " 'loving': -0.01883693510071999,\n",
       " 'm': -0.017555847890690594,\n",
       " 'made': -0.13983489840121047,\n",
       " 'mainstream': -0.5638967964714218,\n",
       " 'me': 0.468022953111742,\n",
       " 'mind': 0.07365908830488817,\n",
       " 'more': 0.0017778558925430224,\n",
       " 'my': 0.3531365606870915,\n",
       " 'non': -0.3614995976757564,\n",
       " 'not': 0.2248973681926501,\n",
       " 'of': 0.033857450655044065,\n",
       " 'one': -0.17978695314972226,\n",
       " 'page': 0.08774250454770086,\n",
       " 'people': -0.03726080357624976,\n",
       " 'practice': -0.12281930322990048,\n",
       " 'probably': -0.09454013922352669,\n",
       " 'problem': 0.08682539759424415,\n",
       " 'raised': -0.06495039132033477,\n",
       " 'rate': -0.35255238965313707,\n",
       " 're': -0.008149629623824562,\n",
       " 'reality': 0.04268921342674972,\n",
       " 'really': 0.09149083302421085,\n",
       " 'reserve': -0.0477081301958356,\n",
       " 's': -0.43812773879210276,\n",
       " 'same': -0.04393724877997297,\n",
       " 'so': 0.026453073872419026,\n",
       " 'supposed': -0.17365341442163099,\n",
       " 'supreme': -0.20806692069897634,\n",
       " 't': -0.03376478952329532,\n",
       " 'talks': 0.08282390864611734,\n",
       " 'than': 0.08453327391404783,\n",
       " 'that': -0.13734809196207481,\n",
       " 'the': -1.5315299686975465,\n",
       " 'these': 0.17108134520781215,\n",
       " 'title': -0.2660284375558629,\n",
       " 'to': -0.14512816225037695,\n",
       " 'under': -0.040315762848481776,\n",
       " 've': -0.2056605193879419,\n",
       " 'wait': -0.01045096523958326,\n",
       " 'when': -0.12050631206371096,\n",
       " 'who': 0.25664670794607936,\n",
       " 'wikiality': 0.3291682719605354,\n",
       " 'wikipedia': 1.302751795315824,\n",
       " 'written': 0.17783966342031365,\n",
       " 'you': 1.5580254551583286}"
      ]
     },
     "execution_count": 26,
     "metadata": {},
     "output_type": "execute_result"
    }
   ],
   "source": [
    "idx = np.where(counts > 0)[0]\n",
    "weight_dict = {}\n",
    "for i in idx:\n",
    "    if len(features[i].split(' ')) == 1: # Only keep unigrams\n",
    "        weight_dict[features[i]] = w[i]*counts[i]\n",
    "weight_dict"
   ]
  },
  {
   "cell_type": "code",
   "execution_count": 27,
   "metadata": {},
   "outputs": [],
   "source": [
    "output = '<pre>' + comment + '</pre>'\n",
    "for k,v in weight_dict.items():\n",
    "    if v < 0:\n",
    "        pass\n",
    "    else:\n",
    "        span_string = '''<span style=\"background-color: rgba(255, 0, 0, %0.2f)\">%s</span>''' % (v,k)        \n",
    "        output = re.sub(r'\\b%s\\b' % k, span_string, output, re.IGNORECASE)"
   ]
  },
  {
   "cell_type": "code",
   "execution_count": 28,
   "metadata": {},
   "outputs": [
    {
     "data": {
      "text/html": [
       "<pre>\"\n",
       "\n",
       "== Gregalton: Douchemaster Supreme ==\n",
       "\n",
       "I'm <span style=\"background-color: rgba(255, 0, 0, 0.22)\">not</span> <span style=\"background-color: rgba(255, 0, 0, 0.26)\">an</span> editor, <span style=\"background-color: rgba(255, 0, 0, 0.03)\">so</span> I <span style=\"background-color: rgba(255, 0, 0, 0.09)\">really</span> don't have <span style=\"background-color: rgba(255, 0, 0, 1.21)\">a</span> <span style=\"background-color: rgba(255, 0, 0, 0.09)\">problem</span> calling <span style=\"background-color: rgba(255, 0, 0, 1.56)\">you</span> <span style=\"background-color: rgba(255, 0, 0, 1.21)\">a</span> <span style=\"background-color: rgba(255, 0, 0, 2.94)\">douchebag</span>. The fact that the article <span style=\"background-color: rgba(255, 0, 0, 0.02)\">considers</span> anyone <span style=\"background-color: rgba(255, 0, 0, 0.26)\">who</span> criticizes the practice <span style=\"background-color: rgba(255, 0, 0, 0.03)\">of</span> FRB as non-mainstream raised the <span style=\"background-color: rgba(255, 0, 0, 0.13)\">flag</span> in <span style=\"background-color: rgba(255, 0, 0, 0.35)\">my</span> <span style=\"background-color: rgba(255, 0, 0, 0.07)\">mind</span>, that <span style=\"background-color: rgba(255, 0, 0, 0.07)\">is</span>, made <span style=\"background-color: rgba(255, 0, 0, 0.47)\">me</span> check the discussion <span style=\"background-color: rgba(255, 0, 0, 0.09)\">page</span>. You've done <span style=\"background-color: rgba(255, 0, 0, 0.00)\">more</span> to <span style=\"background-color: rgba(255, 0, 0, 0.15)\">bias</span> the article <span style=\"background-color: rgba(255, 0, 0, 0.08)\">than</span> <span style=\"background-color: rgba(255, 0, 0, 0.17)\">these</span> supposed \"\"<span style=\"background-color: rgba(255, 0, 0, 0.11)\">conspiracy</span>\"\" people probably did. At any rate, <span style=\"background-color: rgba(255, 0, 0, 7.87)\">fuck</span> Wikipedia, and <span style=\"background-color: rgba(255, 0, 0, 7.87)\">fuck</span> Gregalton; I wait <span style=\"background-color: rgba(255, 0, 0, 0.03)\">for</span> the day when Knol (<span style=\"background-color: rgba(255, 0, 0, 0.29)\">google</span>'s <span style=\"background-color: rgba(255, 0, 0, 1.30)\">wikipedia</span>, <span style=\"background-color: rgba(255, 0, 0, 0.18)\">written</span> by <span style=\"background-color: rgba(255, 0, 0, 0.06)\">experts</span>: <span style=\"background-color: rgba(255, 0, 0, 0.04)\">reality</span>, <span style=\"background-color: rgba(255, 0, 0, 0.22)\">not</span> <span style=\"background-color: rgba(255, 0, 0, 0.33)\">wikiality</span>) has a good article under the same title (and it's <span style=\"background-color: rgba(255, 0, 0, 0.18)\">written</span> by one <span style=\"background-color: rgba(255, 0, 0, 0.03)\">of</span> <span style=\"background-color: rgba(255, 0, 0, 0.17)\">these</span> \"\"non-mainstream\"\" <span style=\"background-color: rgba(255, 0, 0, 0.00)\">economists</span> the article <span style=\"background-color: rgba(255, 0, 0, 0.08)\">talks</span> about).\n",
       "\n",
       "You're a <span style=\"background-color: rgba(255, 0, 0, 2.94)\">douchebag</span>, gregalton.  A <span style=\"background-color: rgba(255, 0, 0, 0.42)\">big</span> <span style=\"background-color: rgba(255, 0, 0, 1.20)\">fat</span> fractional reserve banking loving douchebag.\"</pre>"
      ],
      "text/plain": [
       "<IPython.core.display.HTML object>"
      ]
     },
     "execution_count": 28,
     "metadata": {},
     "output_type": "execute_result"
    }
   ],
   "source": [
    "HTML(output)"
   ]
  },
  {
   "cell_type": "markdown",
   "metadata": {},
   "source": [
    "Now the functional form of the above process."
   ]
  },
  {
   "cell_type": "code",
   "execution_count": 29,
   "metadata": {},
   "outputs": [],
   "source": [
    "def highlight_toxic(comment, pipe, features, w):\n",
    "    counts = pipe.named_steps['vect'].transform([comment]).toarray().flatten()\n",
    "    # Build weight dictionary (unigram only)\n",
    "    idx = np.where(counts > 0)[0]\n",
    "    weight_dict = {}\n",
    "    for i in idx:\n",
    "        if len(features[i].split(' ')) == 1: # Only keep unigrams\n",
    "            weight_dict[features[i]] = w[i]*counts[i]\n",
    "    # Scale to max value\n",
    "    \n",
    "    # Insert spans\n",
    "    output = '<pre>' + comment + '</pre>'\n",
    "    for k,v in weight_dict.items():\n",
    "        if v < 0:\n",
    "            pass\n",
    "        else:\n",
    "            # Some regex magic for keeping the original case\n",
    "            span_string = r'<span style=\"background-color: rgba(255, 0, 0, %0.2f)\">\\1</span>' % v\n",
    "            output = re.sub(r'(?i)(\\b%s\\b)' % k, span_string, output)\n",
    "    return output"
   ]
  },
  {
   "cell_type": "code",
   "execution_count": 30,
   "metadata": {},
   "outputs": [],
   "source": [
    "features = pipe.named_steps['vect'].get_feature_names()\n",
    "w = pipe.named_steps['clf'].coef_.flatten()\n",
    "toxic_examples = [highlight_toxic(comment, pipe, features, w) for comment in toxic_comments]"
   ]
  },
  {
   "cell_type": "code",
   "execution_count": 31,
   "metadata": {},
   "outputs": [
    {
     "data": {
      "text/html": [
       "<pre>\n",
       "\n",
       "== <span style=\"background-color: rgba(255, 0, 0, 0.40)\">BONGWARRIOR</span> <span style=\"background-color: rgba(255, 0, 0, 0.07)\">IS</span> <span style=\"background-color: rgba(255, 0, 0, 0.24)\">A</span> <span style=\"background-color: rgba(255, 0, 0, 0.15)\">GIGANTIC</span> <span style=\"background-color: rgba(255, 0, 0, 2.33)\">ASSHOLE</span>.  ==\n",
       "\n",
       "I WILL <span style=\"background-color: rgba(255, 0, 0, 0.03)\">DIG</span> <span style=\"background-color: rgba(255, 0, 0, 0.18)\">UP</span> <span style=\"background-color: rgba(255, 0, 0, 0.33)\">YOUR</span> GRANDMOTHER AND <span style=\"background-color: rgba(255, 0, 0, 3.01)\">SHIT</span> ON <span style=\"background-color: rgba(255, 0, 0, 0.29)\">HER</span> <span style=\"background-color: rgba(255, 0, 0, 0.00)\">DENTURES</span>.</pre>"
      ],
      "text/plain": [
       "<IPython.core.display.HTML object>"
      ]
     },
     "execution_count": 31,
     "metadata": {},
     "output_type": "execute_result"
    }
   ],
   "source": [
    "HTML(toxic_examples[3])"
   ]
  },
  {
   "cell_type": "code",
   "execution_count": 32,
   "metadata": {},
   "outputs": [
    {
     "data": {
      "text/html": [
       "<pre>\n",
       "\n",
       "==<span style=\"background-color: rgba(255, 0, 0, 0.30)\">NPOV</span>==\n",
       "<span style=\"background-color: rgba(255, 0, 0, 0.33)\">damnit</span>, <span style=\"background-color: rgba(255, 0, 0, 0.01)\">liberals</span> and <span style=\"background-color: rgba(255, 0, 0, 0.03)\">blogger</span> <span style=\"background-color: rgba(255, 0, 0, 0.25)\">are</span> going to try and <span style=\"background-color: rgba(255, 0, 0, 0.08)\">spin</span> the <span style=\"background-color: rgba(255, 0, 0, 1.62)\">hell</span> <span style=\"background-color: rgba(255, 0, 0, 0.01)\">out</span> <span style=\"background-color: rgba(255, 0, 0, 0.02)\">of</span> <span style=\"background-color: rgba(255, 0, 0, 0.72)\">this</span>, look at the version it was <span style=\"background-color: rgba(255, 0, 0, 0.15)\">protected</span> on! <span style=\"background-color: rgba(255, 0, 0, 0.09)\">Why</span> <span style=\"background-color: rgba(255, 0, 0, 0.07)\">is</span> something as minor as <span style=\"background-color: rgba(255, 0, 0, 0.97)\">a</span> <span style=\"background-color: rgba(255, 0, 0, 0.17)\">hunting</span> accident <span style=\"background-color: rgba(255, 0, 0, 0.00)\">even</span> listed in <span style=\"background-color: rgba(255, 0, 0, 0.72)\">this</span> article! It reads <span style=\"background-color: rgba(255, 0, 0, 0.32)\">like</span> <span style=\"background-color: rgba(255, 0, 0, 0.97)\">a</span> <span style=\"background-color: rgba(255, 0, 0, 0.25)\">blog</span> from the <span style=\"background-color: rgba(255, 0, 0, 0.73)\">freaking</span> <span style=\"background-color: rgba(255, 0, 0, 0.03)\">Daily</span> <span style=\"background-color: rgba(255, 0, 0, 0.01)\">Kos</span>, please <span style=\"background-color: rgba(255, 0, 0, 0.00)\">clean</span> <span style=\"background-color: rgba(255, 0, 0, 0.72)\">this</span> <span style=\"background-color: rgba(255, 0, 0, 0.18)\">up</span> to <span style=\"background-color: rgba(255, 0, 0, 0.00)\">conform</span> to Neutral <span style=\"background-color: rgba(255, 0, 0, 0.01)\">POV</span>, and <span style=\"background-color: rgba(255, 0, 0, 0.11)\">not</span> exploit <span style=\"background-color: rgba(255, 0, 0, 0.97)\">a</span> minor accident <span style=\"background-color: rgba(255, 0, 0, 0.32)\">like</span> it's <span style=\"background-color: rgba(255, 0, 0, 0.97)\">a</span> <span style=\"background-color: rgba(255, 0, 0, 0.42)\">big</span> <span style=\"background-color: rgba(255, 0, 0, 0.01)\">deal</span>! </pre>"
      ],
      "text/plain": [
       "<IPython.core.display.HTML object>"
      ]
     },
     "execution_count": 32,
     "metadata": {},
     "output_type": "execute_result"
    }
   ],
   "source": [
    "HTML(toxic_examples[7])"
   ]
  },
  {
   "cell_type": "code",
   "execution_count": null,
   "metadata": {},
   "outputs": [],
   "source": []
  }
 ],
 "metadata": {
  "kernelspec": {
   "display_name": "Python [conda env:nlp]",
   "language": "python",
   "name": "conda-env-nlp-py"
  },
  "language_info": {
   "codemirror_mode": {
    "name": "ipython",
    "version": 3
   },
   "file_extension": ".py",
   "mimetype": "text/x-python",
   "name": "python",
   "nbconvert_exporter": "python",
   "pygments_lexer": "ipython3",
   "version": "3.6.7"
  }
 },
 "nbformat": 4,
 "nbformat_minor": 2
}
